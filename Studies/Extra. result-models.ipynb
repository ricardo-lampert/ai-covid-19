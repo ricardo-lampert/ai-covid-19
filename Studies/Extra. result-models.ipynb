{
 "cells": [
  {
   "cell_type": "markdown",
   "metadata": {
    "id": "K_KK2usinYme"
   },
   "source": [
    "# URLs para obtenção dos datasets (Obtido dia 07/06/2021)\n",
    "- ### Explicação dos datasets: https://repositoriodatasharingfapesp.uspdigital.usp.br/\n",
    "- ### Dataset do hospital Albert Einstein: https://repositoriodatasharingfapesp.uspdigital.usp.br/handle/item/98 - (2020-06-30)\n",
    "- ### Dataset do hospital Sirio Libanes: https://repositoriodatasharingfapesp.uspdigital.usp.br/handle/item/97 (2020-06-30)\n",
    "- ### Dataset do hospital Beneficencia Portuguesa: https://repositoriodatasharingfapesp.uspdigital.usp.br/handle/item/101 (2021-04-28)\n",
    "- ### Dataset do grupo Fleury: https://repositoriodatasharingfapesp.uspdigital.usp.br/handle/item/99 - (2020-06-30)\n",
    "- ### Dataset do hospital das clinicas da faculdade de medicina da Universidade de São Paulo: https://repositoriodatasharingfapesp.uspdigital.usp.br/handle/item/100 - (2021-02-17)"
   ]
  },
  {
   "cell_type": "markdown",
   "metadata": {},
   "source": [
    "# 1. Importing Libraries"
   ]
  },
  {
   "cell_type": "code",
   "execution_count": 1,
   "metadata": {
    "id": "LHakcR8arKVZ"
   },
   "outputs": [],
   "source": [
    "import json\n",
    "import os\n",
    "import sys\n",
    "\n",
    "current_path = os.path.abspath(os.getcwd())\n",
    "sys.path.append(f\"{current_path}/../libs\")\n",
    "\n",
    "from plot import plot_confusion_matrix, plot_table\n",
    "from config import load_config"
   ]
  },
  {
   "cell_type": "markdown",
   "metadata": {},
   "source": [
    "# 2. Reading Configs"
   ]
  },
  {
   "cell_type": "code",
   "execution_count": 2,
   "metadata": {},
   "outputs": [],
   "source": [
    "config = load_config(\"../config.yaml\")"
   ]
  },
  {
   "cell_type": "markdown",
   "metadata": {},
   "source": [
    "# 3. Auxiliar Functions"
   ]
  },
  {
   "cell_type": "code",
   "execution_count": 3,
   "metadata": {},
   "outputs": [],
   "source": [
    "def get_rows_label(model):\n",
    "    rows_label=[]\n",
    "    for i in range(len(model)):\n",
    "        rows_label.append(\"fold \"+str(i))\n",
    "    rows_label.append(\"average\")\n",
    "    rows_label.append(\"standard deviation\")\n",
    "    return rows_label\n"
   ]
  },
  {
   "cell_type": "code",
   "execution_count": 4,
   "metadata": {},
   "outputs": [],
   "source": [
    "def add_avg_row(data):\n",
    "    row = []\n",
    "    for i in range(len(data[0])):\n",
    "        total = 0\n",
    "        for j in range(len(data)):\n",
    "            total += data[j][i]\n",
    "        row.append(round(total/(len(data)),3))\n",
    "    data.append(row)\n",
    "    return data"
   ]
  },
  {
   "cell_type": "code",
   "execution_count": 5,
   "metadata": {},
   "outputs": [],
   "source": [
    "def add_std_var_row(data):\n",
    "    row = []\n",
    "    for i in range(len(data[0])):\n",
    "        total = 0\n",
    "        for j in range(len(data)-1):\n",
    "            total += pow(abs(data[j][i]-data[-1][i]),2)\n",
    "        row.append(round(pow((total/(len(data)-1)),1/2),3))\n",
    "    data.append(row)\n",
    "    return data"
   ]
  },
  {
   "cell_type": "code",
   "execution_count": 6,
   "metadata": {},
   "outputs": [],
   "source": [
    "def get_data(model, columns):\n",
    "    data = []\n",
    "    for i in range(len(model)):   \n",
    "        metrics = model.get(\"fold \"+str(i),\"\")\n",
    "        row=[]\n",
    "        for metric in columns:\n",
    "            row.append(metrics.get(metric,\"\"))\n",
    "        data.append(row)\n",
    "    data = add_avg_row(data)\n",
    "    data = add_std_var_row(data)\n",
    "    return data"
   ]
  },
  {
   "cell_type": "code",
   "execution_count": 7,
   "metadata": {},
   "outputs": [],
   "source": [
    "def get_tables(model,fold_name,model_name=\"\"):\n",
    "    row_labels = get_rows_label(model)\n",
    "    columns_label = [\n",
    "        \"accuracy\",\n",
    "        \"precision\",\n",
    "        \"recall\",\n",
    "        \"f1-score\",]\n",
    "    data = get_data(model, columns_label)\n",
    "    path = f\"{config.PLOTS_PATH}{config.MODELS_PATH}{fold_name}/\"\n",
    "    if not os.path.exists(path):\n",
    "        os.makedirs(path)\n",
    "    plot_table(\n",
    "        data,\n",
    "        columns=columns_label, \n",
    "        rows=row_labels,\n",
    "        path=f\"{path}{model_name} metrics\",\n",
    "        title = f\"Metrics Table {model_name}\")"
   ]
  },
  {
   "cell_type": "code",
   "execution_count": 8,
   "metadata": {},
   "outputs": [],
   "source": [
    "def get_confusion_matrix(model,fold_name,model_name=\"\"):\n",
    "    tp = 0\n",
    "    tn = 0\n",
    "    for i in range(len(model)):   \n",
    "        matrix = model.get(\"fold \"+str(i),\"\").get(\"confusion matrix\",\"\")\n",
    "        tp += float(matrix.get(\"tp\",\"\"))\n",
    "        tn += float(matrix.get(\"tn\",\"\"))\n",
    "    tp = tp/len(model)\n",
    "    tn = tn/len(model)\n",
    "    fn = 1-tp\n",
    "    fp = 1- tn\n",
    "    cm = [[tp, fp], [fn, tn]]\n",
    "    path = f\"{config.PLOTS_PATH}{config.MODELS_PATH}{fold_name}/\"\n",
    "    if not os.path.exists(path):\n",
    "        os.makedirs(path)\n",
    "    plot_confusion_matrix(cm,path=f\"{path}{model_name} confusion matrix\",model_name=model_name)"
   ]
  },
  {
   "cell_type": "markdown",
   "metadata": {},
   "source": [
    "# 4. Reading Each Dataset Model Report"
   ]
  },
  {
   "cell_type": "code",
   "execution_count": 9,
   "metadata": {},
   "outputs": [],
   "source": [
    "models_reports = []\n",
    "for dataset in config.DATASETS:\n",
    "    with open(config.REPORT_PATH+'/models.json', 'r') as fp:\n",
    "        models_reports.append(json.load(fp))"
   ]
  },
  {
   "cell_type": "markdown",
   "metadata": {},
   "source": [
    "# 5. Getting Each Dataset Models Info"
   ]
  },
  {
   "cell_type": "code",
   "execution_count": 10,
   "metadata": {},
   "outputs": [],
   "source": [
    "for models_report,dataset in zip(models_reports,config.DATASETS):\n",
    "    for model_name in config.MODELS:\n",
    "        model = models_report.get(dataset).get(model_name,\"\")\n",
    "        get_tables(model,f\"metrics/{dataset}\",model_name)\n",
    "        get_confusion_matrix(model,f\"confusion-matrix/{dataset}\",model_name)"
   ]
  },
  {
   "cell_type": "code",
   "execution_count": null,
   "metadata": {},
   "outputs": [],
   "source": []
  }
 ],
 "metadata": {
  "colab": {
   "name": "01-Extração.ipynb",
   "provenance": []
  },
  "kernelspec": {
   "display_name": "Python 3.8.10 64-bit ('.venv': venv)",
   "language": "python",
   "name": "python3810jvsc74a57bd0a4783cf7446ebef64c2d24c4fe9f4a266d86f6dd2e7a304b8ae8804c98f80f9f"
  },
  "language_info": {
   "codemirror_mode": {
    "name": "ipython",
    "version": 3
   },
   "file_extension": ".py",
   "mimetype": "text/x-python",
   "name": "python",
   "nbconvert_exporter": "python",
   "pygments_lexer": "ipython3",
   "version": "3.8.10"
  },
  "metadata": {
   "interpreter": {
    "hash": "0e11114eded33ad68143fd666caabe644544be984b0693b56435e1b55b430f7f"
   }
  }
 },
 "nbformat": 4,
 "nbformat_minor": 1
}