{
 "cells": [
  {
   "cell_type": "markdown",
   "metadata": {
    "id": "K_KK2usinYme"
   },
   "source": [
    "# URLs para obtenção dos datasets (Obtido dia 07/06/2021)\n",
    "- ### Explicação dos datasets: https://repositoriodatasharingfapesp.uspdigital.usp.br/\n",
    "- ### Dataset do hospital Albert Einstein: https://repositoriodatasharingfapesp.uspdigital.usp.br/handle/item/98 - (2020-06-30)\n",
    "- ### Dataset do hospital Sirio Libanes: https://repositoriodatasharingfapesp.uspdigital.usp.br/handle/item/97 (2020-06-30)\n",
    "- ### Dataset do hospital Beneficencia Portuguesa: https://repositoriodatasharingfapesp.uspdigital.usp.br/handle/item/101 (2021-04-28)\n",
    "- ### Dataset do grupo Fleury: https://repositoriodatasharingfapesp.uspdigital.usp.br/handle/item/99 - (2020-06-30)\n",
    "- ### Dataset do hospital das clinicas da faculdade de medicina da Universidade de São Paulo: https://repositoriodatasharingfapesp.uspdigital.usp.br/handle/item/100 - (2021-02-17)"
   ]
  },
  {
   "cell_type": "markdown",
   "metadata": {},
   "source": [
    "# 1. Importing Libraries"
   ]
  },
  {
   "cell_type": "code",
   "execution_count": 13,
   "metadata": {
    "id": "LHakcR8arKVZ"
   },
   "outputs": [],
   "source": [
    "import json\n",
    "import os\n",
    "import sys\n",
    "import pandas as pd\n",
    "from sklearn.model_selection import train_test_split\n",
    "from sklearn import tree\n",
    "from sklearn.ensemble import RandomForestClassifier\n",
    "from sklearn.linear_model import LogisticRegression\n",
    "from sklearn.neighbors import KNeighborsClassifier\n",
    "from sklearn import svm\n",
    "from sklearn.svm import SVC\n",
    "\n",
    "current_path = os.path.abspath(os.getcwd())\n",
    "sys.path.append(f\"{current_path}/../libs\")\n",
    "\n",
    "from plot import plot_confusion_matrix, plot_table\n",
    "from dataframe import read_dataset\n",
    "from report import dataset_info_report, model_report, feature_selection_report\n",
    "from preprocess import remove_sparse_rows, remove_sparse_columns, under_sampling, one_hot_encoded\n",
    "from feature_selection import get_k_best_features\n",
    "from cross_validation import get_folds"
   ]
  },
  {
   "cell_type": "markdown",
   "metadata": {},
   "source": [
    "# 2. Defining Constants and Globals"
   ]
  },
  {
   "cell_type": "code",
   "execution_count": 14,
   "metadata": {},
   "outputs": [],
   "source": [
    "DATASETS_PATH = \"../dataset/\"\n",
    "COMPLETE_DATASET_REPORT_PATH = \"../reports/complete-dataset/\"\n",
    "EACH_DATASET_REPORT_PATH = \"../reports/each-dataset/\"\n",
    "INTERIM_REPORT_PATH = \"../reports/interim/\"\n",
    "PLOTS_PATH = \"../plots/\"\n",
    "REPORT_PATH = \"../reports/\"\n",
    "DATASETS = [\n",
    "    \"albert-einstein\",\n",
    "    \"beneficencia-portuguesa\",\n",
    "    \"hospital-de-clinicas\",\n",
    "    \"sirio-libanes\",\n",
    "    \"grupo-fleury\",\n",
    "    ]\n",
    "\n",
    "K_FOLDS = 5\n",
    "\n",
    "N_FEATURES = 10\n",
    "FS_THRESHOLD = 0.25\n",
    "\n",
    "fs_report = {}"
   ]
  },
  {
   "cell_type": "markdown",
   "metadata": {},
   "source": [
    "# 3. Auxiliar Functions"
   ]
  },
  {
   "cell_type": "code",
   "execution_count": 15,
   "metadata": {},
   "outputs": [],
   "source": [
    "# def fs_results_filter(fs_results):\n",
    "#     total = K_FOLDS*len(DATASETS)\n",
    "#     fs_filtered_results = []\n",
    "#     for feature,times in fs_results.items():\n",
    "#         if times > total * FS_THRESHOLD:\n",
    "#             fs_filtered_results.append[feature]\n",
    "#         else:\n",
    "#             return fs_filtered_results\n",
    "\n",
    "def fs_results_filter(fs_results):\n",
    "    n_features = N_FEATURES\n",
    "    fs_filtered_results = []\n",
    "    ultimo = 0\n",
    "    for feature,times in fs_results.items():\n",
    "        if  n_features>0 or times==ultimo:\n",
    "            fs_filtered_results.append(feature)\n",
    "            n_features-=1\n",
    "            if n_features == 0:\n",
    "                ultimo = times\n",
    "        else:\n",
    "            return fs_filtered_results\n"
   ]
  },
  {
   "cell_type": "markdown",
   "metadata": {},
   "source": [
    "# 4. Reading Normalized Datasets"
   ]
  },
  {
   "cell_type": "code",
   "execution_count": 16,
   "metadata": {},
   "outputs": [],
   "source": [
    "complete_data = []\n",
    "for dataset in DATASETS:\n",
    "    df = read_dataset(dataset).drop(\"ID_PACIENTE\",axis=1)\n",
    "    df[\"grupo\"] = dataset\n",
    "    complete_data.append(df)\n",
    "raw_df = pd.concat(complete_data)\n"
   ]
  },
  {
   "cell_type": "markdown",
   "metadata": {},
   "source": [
    "# 5. Reading Interim"
   ]
  },
  {
   "cell_type": "code",
   "execution_count": 17,
   "metadata": {},
   "outputs": [],
   "source": [
    "with open(INTERIM_REPORT_PATH+'features.json', 'r') as fp:\n",
    "    features_report = json.load(fp)[\"results\"]"
   ]
  },
  {
   "cell_type": "markdown",
   "metadata": {},
   "source": [
    "# 6. Preprocess Data"
   ]
  },
  {
   "cell_type": "code",
   "execution_count": 18,
   "metadata": {},
   "outputs": [],
   "source": [
    "preprocessed_df = remove_sparse_columns(raw_df)\n",
    "preprocessed_df = remove_sparse_rows(preprocessed_df)\n",
    "data_df = preprocessed_df.drop([\"grupo\"],axis=1)\n",
    "one_hot_encoded_df = one_hot_encoded(data_df)\n",
    "df = one_hot_encoded_df\n",
    "df[\"grupo\"] = preprocessed_df[\"grupo\"]\n"
   ]
  },
  {
   "cell_type": "code",
   "execution_count": null,
   "metadata": {},
   "outputs": [],
   "source": []
  },
  {
   "cell_type": "markdown",
   "metadata": {},
   "source": [
    "# 7. Apply models"
   ]
  },
  {
   "cell_type": "code",
   "execution_count": 19,
   "metadata": {},
   "outputs": [],
   "source": [
    "models = {\n",
    "    \"Decision Tree\" : tree.DecisionTreeClassifier(),\n",
    "    \"Random Forest\" : RandomForestClassifier(random_state=42),\n",
    "    \"KNN\" : KNeighborsClassifier(),\n",
    "    # \"Logistic Regression\" : LogisticRegression(max_iter=1000),\n",
    "    # \"SVM\" : SVC(probability=True, class_weight='balanced')\n",
    "}"
   ]
  },
  {
   "cell_type": "code",
   "execution_count": 20,
   "metadata": {},
   "outputs": [],
   "source": [
    "for fs_model, fs_results in features_report.items():\n",
    "    if fs_model not in fs_report:\n",
    "        fs_report[fs_model]={}\n",
    "    # fs_filtered_results = fs_results_filter(fs_results)\n",
    "    fs_filtered_results = list(fs_results.keys())\n",
    "    fs_filtered_results.append(\"LABEL\")\n",
    "    fs_report[fs_model][\"N Features\"] = len(fs_filtered_results)\n",
    "    fs_report[fs_model][\"Features\"] = fs_filtered_results\n",
    "    grouped = df.groupby(df.grupo)\n",
    "    dfs = [grouped.get_group(dataset) for dataset in DATASETS]\n",
    "\n",
    "    for fold_df,dataset in zip(dfs,DATASETS):\n",
    "        columns = [x for x in df.columns if x in fs_filtered_results]\n",
    "        fs_dfs = fold_df[columns]\n",
    "        for model_name, model in models.items():\n",
    "            if model_name not in fs_report[fs_model]:\n",
    "                fs_report[fs_model][model_name]={}\n",
    "            if dataset not in fs_report[fs_model][model_name]:\n",
    "                fs_report[fs_model][model_name][dataset]={}\n",
    "            train = [df_train for df_train in dfs if not df_train.equals(df)]\n",
    "            \n",
    "            train_df = under_sampling(pd.concat(train),False)\n",
    "            test_df = under_sampling(fold_df,False)\n",
    "            # train_df.fillna(0, inplace=True)\n",
    "\n",
    "            X_train = train_df.drop([\"LABEL\",\"grupo\"],axis=1)\n",
    "            y_train = train_df[\"LABEL\"]\n",
    "            X_test = df.drop([\"LABEL\",\"grupo\"],axis=1)\n",
    "            y_test = df[\"LABEL\"]\n",
    "          \n",
    "            model.fit(X_train, y_train.values.ravel())\n",
    "            y_predicted=model.predict(X_test)\n",
    "            \n",
    "            fs_report[fs_model][model_name][dataset]=model_report(y_test,y_predicted)                \n"
   ]
  },
  {
   "cell_type": "code",
   "execution_count": 23,
   "metadata": {},
   "outputs": [
    {
     "data": {
      "text/plain": "{'select-k-best': {'N Features': 35,\n  'Features': ['hemograma eosinofilos_NORMAL',\n   'hemograma eosinofilos_BAIXO',\n   'd dimero_NORMAL',\n   'd dimero_ALTO',\n   'tgp_ALTO',\n   'hemograma linfocitos_BAIXO',\n   'hemograma leucocitos_BAIXO',\n   'hemograma leucocitos_ALTO',\n   'hemograma eosinofilos_ALTO',\n   'desidrogenase latica_ALTO',\n   'bilirrubina direta_NORMAL',\n   'desidrogenase latica_NORMAL',\n   'tgo_ALTO',\n   'bilirrubina total_NORMAL',\n   'hemograma neutrofilos_NORMAL',\n   'hemograma neutrofilos_BAIXO',\n   'hemograma neutrofilos_ALTO',\n   'hemograma monocitos_ALTO',\n   'hemograma linfocitos_ALTO',\n   'hemograma hemoglobina_NORMAL',\n   'hemograma hemoglobina_BAIXO',\n   'hemograma eritrocitos_BAIXO',\n   'magnesio_BAIXO',\n   'hemograma vcm_BAIXO',\n   'hemograma linfocitos_NORMAL',\n   'calcio ionizavel_BAIXO',\n   'bilirrubina indireta_NORMAL',\n   'ureia_NORMAL',\n   'creatinina_NORMAL',\n   'hemograma rdw_ALTO',\n   'potassio_NORMAL',\n   'hemograma vcm_NORMAL',\n   'hemograma monocitos_NORMAL',\n   'hemograma monocitos_BAIXO',\n   'LABEL'],\n  'Decision Tree': {'albert-einstein': {'accuracy': 0.86,\n    'precision': 0.71,\n    'recall': 0.89,\n    'f1-score': 0.79,\n    'confusion matrix': {'tp': '0.89',\n     'tn': '0.85',\n     'fp': '0.15',\n     'fn': '0.11'}},\n   'beneficencia-portuguesa': {'accuracy': 0.86,\n    'precision': 0.71,\n    'recall': 0.88,\n    'f1-score': 0.79,\n    'confusion matrix': {'tp': '0.88',\n     'tn': '0.85',\n     'fp': '0.15',\n     'fn': '0.12'}},\n   'hospital-de-clinicas': {'accuracy': 0.86,\n    'precision': 0.71,\n    'recall': 0.89,\n    'f1-score': 0.79,\n    'confusion matrix': {'tp': '0.89',\n     'tn': '0.85',\n     'fp': '0.15',\n     'fn': '0.11'}},\n   'sirio-libanes': {'accuracy': 0.86,\n    'precision': 0.71,\n    'recall': 0.88,\n    'f1-score': 0.79,\n    'confusion matrix': {'tp': '0.88',\n     'tn': '0.85',\n     'fp': '0.15',\n     'fn': '0.12'}},\n   'grupo-fleury': {'accuracy': 0.86,\n    'precision': 0.71,\n    'recall': 0.88,\n    'f1-score': 0.79,\n    'confusion matrix': {'tp': '0.88',\n     'tn': '0.85',\n     'fp': '0.15',\n     'fn': '0.12'}}},\n  'Random Forest': {'albert-einstein': {'accuracy': 0.87,\n    'precision': 0.73,\n    'recall': 0.9,\n    'f1-score': 0.8,\n    'confusion matrix': {'tp': '0.9',\n     'tn': '0.86',\n     'fp': '0.14',\n     'fn': '0.1'}},\n   'beneficencia-portuguesa': {'accuracy': 0.87,\n    'precision': 0.73,\n    'recall': 0.9,\n    'f1-score': 0.81,\n    'confusion matrix': {'tp': '0.9',\n     'tn': '0.86',\n     'fp': '0.14',\n     'fn': '0.1'}},\n   'hospital-de-clinicas': {'accuracy': 0.87,\n    'precision': 0.73,\n    'recall': 0.9,\n    'f1-score': 0.8,\n    'confusion matrix': {'tp': '0.9',\n     'tn': '0.86',\n     'fp': '0.14',\n     'fn': '0.1'}},\n   'sirio-libanes': {'accuracy': 0.87,\n    'precision': 0.73,\n    'recall': 0.9,\n    'f1-score': 0.81,\n    'confusion matrix': {'tp': '0.9',\n     'tn': '0.86',\n     'fp': '0.14',\n     'fn': '0.1'}},\n   'grupo-fleury': {'accuracy': 0.87,\n    'precision': 0.73,\n    'recall': 0.9,\n    'f1-score': 0.81,\n    'confusion matrix': {'tp': '0.9',\n     'tn': '0.86',\n     'fp': '0.14',\n     'fn': '0.1'}}},\n  'KNN': {'albert-einstein': {'accuracy': 0.77,\n    'precision': 0.58,\n    'recall': 0.79,\n    'f1-score': 0.67,\n    'confusion matrix': {'tp': '0.79',\n     'tn': '0.76',\n     'fp': '0.24',\n     'fn': '0.21'}},\n   'beneficencia-portuguesa': {'accuracy': 0.76,\n    'precision': 0.57,\n    'recall': 0.79,\n    'f1-score': 0.66,\n    'confusion matrix': {'tp': '0.79',\n     'tn': '0.75',\n     'fp': '0.25',\n     'fn': '0.21'}},\n   'hospital-de-clinicas': {'accuracy': 0.78,\n    'precision': 0.6,\n    'recall': 0.77,\n    'f1-score': 0.67,\n    'confusion matrix': {'tp': '0.77',\n     'tn': '0.78',\n     'fp': '0.22',\n     'fn': '0.23'}},\n   'sirio-libanes': {'accuracy': 0.78,\n    'precision': 0.61,\n    'recall': 0.78,\n    'f1-score': 0.68,\n    'confusion matrix': {'tp': '0.78',\n     'tn': '0.79',\n     'fp': '0.21',\n     'fn': '0.22'}},\n   'grupo-fleury': {'accuracy': 0.77,\n    'precision': 0.59,\n    'recall': 0.78,\n    'f1-score': 0.67,\n    'confusion matrix': {'tp': '0.78',\n     'tn': '0.77',\n     'fp': '0.23',\n     'fn': '0.22'}}}}}"
     },
     "execution_count": 23,
     "metadata": {},
     "output_type": "execute_result"
    }
   ],
   "source": [
    "fs_report"
   ]
  },
  {
   "cell_type": "markdown",
   "metadata": {},
   "source": [
    "# 8. Save Feature Selection Report"
   ]
  },
  {
   "cell_type": "code",
   "execution_count": 22,
   "metadata": {},
   "outputs": [],
   "source": [
    "path = f\"{INTERIM_REPORT_PATH}\"\n",
    "\n",
    "with open(path+'feature-selection-results.json', 'w') as f:\n",
    "    json.dump(fs_report, f)"
   ]
  },
  {
   "cell_type": "code",
   "execution_count": null,
   "metadata": {},
   "outputs": [],
   "source": []
  }
 ],
 "metadata": {
  "colab": {
   "name": "01-Extração.ipynb",
   "provenance": []
  },
  "kernelspec": {
   "display_name": "Python 3.8.10 64-bit ('.venv': venv)",
   "language": "python",
   "name": "python3810jvsc74a57bd0a4783cf7446ebef64c2d24c4fe9f4a266d86f6dd2e7a304b8ae8804c98f80f9f"
  },
  "language_info": {
   "codemirror_mode": {
    "name": "ipython",
    "version": 3
   },
   "file_extension": ".py",
   "mimetype": "text/x-python",
   "name": "python",
   "nbconvert_exporter": "python",
   "pygments_lexer": "ipython3",
   "version": "3.8.10"
  },
  "metadata": {
   "interpreter": {
    "hash": "0e11114eded33ad68143fd666caabe644544be984b0693b56435e1b55b430f7f"
   }
  }
 },
 "nbformat": 4,
 "nbformat_minor": 1
}