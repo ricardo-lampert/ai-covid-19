{
 "cells": [
  {
   "cell_type": "markdown",
   "metadata": {
    "id": "K_KK2usinYme"
   },
   "source": [
    "# URLs para obtenção dos datasets (Obtido dia 07/06/2021)\n",
    "- ### Explicação dos datasets: https://repositoriodatasharingfapesp.uspdigital.usp.br/\n",
    "- ### Dataset do hospital Albert Einstein: https://repositoriodatasharingfapesp.uspdigital.usp.br/handle/item/98 - (2020-06-30)\n",
    "- ### Dataset do hospital Sirio Libanes: https://repositoriodatasharingfapesp.uspdigital.usp.br/handle/item/97 (2020-06-30)\n",
    "- ### Dataset do hospital Beneficencia Portuguesa: https://repositoriodatasharingfapesp.uspdigital.usp.br/handle/item/101 (2021-04-28)\n",
    "- ### Dataset do grupo Fleury: https://repositoriodatasharingfapesp.uspdigital.usp.br/handle/item/99 - (2020-06-30)\n",
    "- ### Dataset do hospital das clinicas da faculdade de medicina da Universidade de São Paulo: https://repositoriodatasharingfapesp.uspdigital.usp.br/handle/item/100 - (2021-02-17)"
   ]
  },
  {
   "cell_type": "markdown",
   "metadata": {},
   "source": [
    "# 1. Importing Libraries"
   ]
  },
  {
   "cell_type": "code",
   "execution_count": 10,
   "metadata": {
    "id": "LHakcR8arKVZ"
   },
   "outputs": [],
   "source": [
    "import json\n",
    "from operator import itemgetter\n",
    "import os\n",
    "import sys\n",
    "\n",
    "current_path = os.path.abspath(os.getcwd())\n",
    "sys.path.append(f\"{current_path}/../libs\")\n",
    "\n",
    "from plot import plot_confusion_matrix, plot_table\n",
    "from config import load_config\n"
   ]
  },
  {
   "cell_type": "markdown",
   "metadata": {},
   "source": [
    "# 2. Reading Configs and Defining Globals"
   ]
  },
  {
   "cell_type": "code",
   "execution_count": 11,
   "metadata": {},
   "outputs": [],
   "source": [
    "config = load_config(\"../config.yaml\")"
   ]
  },
  {
   "cell_type": "markdown",
   "metadata": {},
   "source": [
    "# 3. Auxiliar Functions"
   ]
  },
  {
   "cell_type": "code",
   "execution_count": 12,
   "metadata": {},
   "outputs": [],
   "source": [
    "def get_data(model):\n",
    "    features = {}\n",
    "    for features_list in model.values():\n",
    "        for feature in features_list:\n",
    "            if feature not in features:\n",
    "                features[feature]=1\n",
    "            else:\n",
    "                features[feature] += 1\n",
    "    rows = [[feature, times] for feature, times in features.items()]\n",
    "    rows.sort(key=lambda x: (x[1],x[0]),reverse=True)\n",
    "    return rows"
   ]
  },
  {
   "cell_type": "code",
   "execution_count": 13,
   "metadata": {},
   "outputs": [],
   "source": [
    "def get_table(model,model_name, dataset=None):\n",
    "    columns_label = [\n",
    "        \"\",\n",
    "        \"Times\\ on\\ Top\\ 10\",]\n",
    "    data = get_data(model)\n",
    "    if model_name not in features_result:\n",
    "        features_result[model_name]={}\n",
    "    features_result[model_name][dataset] = dict(data)\n",
    "    path = f\"{config.PLOTS_PATH}{config.FEATURES_PATH}/{model_name}/\"\n",
    "    if not os.path.exists(path):\n",
    "        os.makedirs(path)\n",
    "    plot_table(data, columns=columns_label, path=f\"{path}{dataset}\", title=f\"Feature Selection {model_name}\")\n",
    "    "
   ]
  },
  {
   "cell_type": "code",
   "execution_count": 14,
   "metadata": {},
   "outputs": [],
   "source": [
    "def get_results(fs_model):\n",
    "    results = {}\n",
    "    for dataset,result in fs_model.items():\n",
    "        if dataset != \"concatenated-dataset\" and dataset != \"features-result\":\n",
    "            for feature,times in result.items():\n",
    "                if feature not in results:\n",
    "                    results[feature]=times\n",
    "                else:\n",
    "                    results[feature]+=times\n",
    "    data = [[feature, times] for feature, times in results.items()]\n",
    "    data.sort(key=lambda x: (x[1],x[0]),reverse=True)\n",
    "    return data"
   ]
  },
  {
   "cell_type": "markdown",
   "metadata": {},
   "source": [
    "# 4. Reading Each Dataset Feature Selection Report"
   ]
  },
  {
   "cell_type": "code",
   "execution_count": 15,
   "metadata": {},
   "outputs": [],
   "source": [
    "with open(f\"{config.REPORT_PATH}features.json\", 'r') as fp:\n",
    "    features_reports = json.load(fp)"
   ]
  },
  {
   "cell_type": "markdown",
   "metadata": {},
   "source": [
    "# 5. Getting Each Dataset Feature Selection Table"
   ]
  },
  {
   "cell_type": "code",
   "execution_count": 16,
   "metadata": {},
   "outputs": [],
   "source": [
    "features_result = {}\n",
    "for fs_model_name, fs_model in features_reports.items():\n",
    "    for dataset in config.DATASETS:\n",
    "        features_dict = fs_model.get(dataset,\"\")\n",
    "        get_table(features_dict,fs_model_name,dataset)"
   ]
  },
  {
   "cell_type": "markdown",
   "metadata": {},
   "source": [
    "# 6. Getting Results Feature Selection Table"
   ]
  },
  {
   "cell_type": "code",
   "execution_count": 17,
   "metadata": {},
   "outputs": [],
   "source": [
    "for fs_model_name, fs_model in features_result.items():\n",
    "     data = get_results(fs_model)\n",
    "     columns_label = [\"\",\"Times\\ on\\ Top\\ 10\"]\n",
    "     path = f\"{config.PLOTS_PATH}{config.FEATURES_PATH}{fs_model_name}/\"\n",
    "     if not os.path.exists(path):\n",
    "          os.makedirs(path)\n",
    "     plot_table(data[:config.N_FEATURES], columns=columns_label, path=f\"{path}results\", title=f\"Feature Selection - {fs_model_name}\")\n",
    "     features_result[fs_model_name][\"features-result\"]=dict(data)"
   ]
  },
  {
   "cell_type": "markdown",
   "metadata": {},
   "source": [
    "# 7. Saving Results Report"
   ]
  },
  {
   "cell_type": "code",
   "execution_count": 18,
   "metadata": {},
   "outputs": [],
   "source": [
    "path = f\"{config.REPORT_PATH}\"\n",
    "if not os.path.exists(path):\n",
    "    os.makedirs(path)\n",
    "\n",
    "with open(f\"{path}features-result.json\", 'w') as f:\n",
    "    json.dump(features_result, f)"
   ]
  },
  {
   "cell_type": "code",
   "execution_count": null,
   "metadata": {},
   "outputs": [],
   "source": []
  },
  {
   "cell_type": "code",
   "execution_count": null,
   "metadata": {},
   "outputs": [],
   "source": []
  }
 ],
 "metadata": {
  "colab": {
   "name": "01-Extração.ipynb",
   "provenance": []
  },
  "kernelspec": {
   "display_name": "Python 3.8.10 64-bit ('.venv': venv)",
   "language": "python",
   "name": "python3810jvsc74a57bd0a4783cf7446ebef64c2d24c4fe9f4a266d86f6dd2e7a304b8ae8804c98f80f9f"
  },
  "language_info": {
   "codemirror_mode": {
    "name": "ipython",
    "version": 3
   },
   "file_extension": ".py",
   "mimetype": "text/x-python",
   "name": "python",
   "nbconvert_exporter": "python",
   "pygments_lexer": "ipython3",
   "version": "3.8.10"
  },
  "metadata": {
   "interpreter": {
    "hash": "0e11114eded33ad68143fd666caabe644544be984b0693b56435e1b55b430f7f"
   }
  }
 },
 "nbformat": 4,
 "nbformat_minor": 1
}