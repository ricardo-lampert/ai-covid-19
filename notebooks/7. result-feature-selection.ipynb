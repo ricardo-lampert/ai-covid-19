{
 "cells": [
  {
   "cell_type": "markdown",
   "metadata": {
    "id": "K_KK2usinYme"
   },
   "source": [
    "# URLs para obtenção dos datasets (Obtido dia 07/06/2021)\n",
    "- ### Explicação dos datasets: https://repositoriodatasharingfapesp.uspdigital.usp.br/\n",
    "- ### Dataset do hospital Albert Einstein: https://repositoriodatasharingfapesp.uspdigital.usp.br/handle/item/98 - (2020-06-30)\n",
    "- ### Dataset do hospital Sirio Libanes: https://repositoriodatasharingfapesp.uspdigital.usp.br/handle/item/97 (2020-06-30)\n",
    "- ### Dataset do hospital Beneficencia Portuguesa: https://repositoriodatasharingfapesp.uspdigital.usp.br/handle/item/101 (2021-04-28)\n",
    "- ### Dataset do grupo Fleury: https://repositoriodatasharingfapesp.uspdigital.usp.br/handle/item/99 - (2020-06-30)\n",
    "- ### Dataset do hospital das clinicas da faculdade de medicina da Universidade de São Paulo: https://repositoriodatasharingfapesp.uspdigital.usp.br/handle/item/100 - (2021-02-17)"
   ]
  },
  {
   "cell_type": "markdown",
   "metadata": {},
   "source": [
    "# 1. Importing Libraries"
   ]
  },
  {
   "cell_type": "code",
   "execution_count": 1,
   "metadata": {
    "id": "LHakcR8arKVZ"
   },
   "outputs": [],
   "source": [
    "import json\n",
    "from operator import itemgetter\n",
    "import os\n",
    "import sys\n",
    "\n",
    "current_path = os.path.abspath(os.getcwd())\n",
    "sys.path.append(f\"{current_path}/../libs\")\n",
    "\n",
    "from plot import plot_confusion_matrix, plot_table"
   ]
  },
  {
   "cell_type": "markdown",
   "metadata": {},
   "source": [
    "# 2. Defining Constants and Globals"
   ]
  },
  {
   "cell_type": "code",
   "execution_count": 2,
   "metadata": {},
   "outputs": [],
   "source": [
    "COMPLETE_DATASET_REPORT_PATH = \"../reports/complete-dataset/\"\n",
    "EACH_DATASET_REPORT_PATH = \"../reports/each-dataset/\"\n",
    "INTERIM_REPORT_PATH = \"../reports/interim/\"\n",
    "PLOTS_FEATURE_SELECTION_PATH = \"../plots/feature_selection/\"\n",
    "REPORT_PATH = \"../reports/\"\n",
    "DATASETS = [\n",
    "    \"albert-einstein\",\n",
    "    \"beneficencia-portuguesa\",\n",
    "    \"hospital-de-clinicas\",\n",
    "    \"sirio-libanes\",\n",
    "    \"grupo-fleury\"\n",
    "    ]\n",
    "\n",
    "FEATURE_SELECTION_MODELS = [\n",
    "    \"select-k-best\"\n",
    "]\n",
    "N_FEATURES = 15\n",
    "\n",
    "report_interim = {}"
   ]
  },
  {
   "cell_type": "markdown",
   "metadata": {},
   "source": [
    "# 3. Auxiliar Functions"
   ]
  },
  {
   "cell_type": "markdown",
   "metadata": {},
   "source": [
    "# 4. Reading Complete Dataset Feature Selection Report"
   ]
  },
  {
   "cell_type": "code",
   "execution_count": 5,
   "metadata": {},
   "outputs": [],
   "source": [
    "with open(INTERIM_REPORT_PATH+'feature-selection-results.json', 'r') as fp:\n",
    "    feature_selection_report = json.load(fp)"
   ]
  },
  {
   "cell_type": "code",
   "execution_count": 7,
   "metadata": {},
   "outputs": [],
   "source": [
    "models_names = [\n",
    "    \"Decision Tree\",\n",
    "    \"Random Forest\",\n",
    "    \"KNN\" ,\n",
    "    # \"Logistic Regression\",\n",
    "    # \"SVM\"\n",
    "]"
   ]
  },
  {
   "cell_type": "code",
   "execution_count": 31,
   "metadata": {},
   "outputs": [],
   "source": [
    "def get_row(ml_results):\n",
    "    n_hospitals = len(ml_results)\n",
    "    accuracy = 0\n",
    "    precision = 0\n",
    "    recall = 0\n",
    "    f1_score = 0\n",
    "    tp = 0\n",
    "    tn = 0\n",
    "    for hospital, metrics in ml_results.items():\n",
    "        accuracy += float(metrics[\"accuracy\"])\n",
    "        precision += float(metrics[\"precision\"])\n",
    "        recall += float(metrics[\"recall\"])\n",
    "        f1_score += float(metrics[\"f1-score\"])\n",
    "        tp += float(metrics[\"confusion matrix\"][\"tp\"])\n",
    "        tn += float(metrics[\"confusion matrix\"][\"tn\"])\n",
    "    return [\n",
    "        round(accuracy/n_hospitals,3),\n",
    "        round(precision/n_hospitals,3),\n",
    "        round(recall/n_hospitals,3),\n",
    "        round(f1_score/n_hospitals,3),\n",
    "        round(tp/n_hospitals,3),\n",
    "        round(tn/n_hospitals,3),\n",
    "        round(1 - tp/n_hospitals,3),\n",
    "        round(1 - tn/n_hospitals,3),\n",
    "    ]\n"
   ]
  },
  {
   "cell_type": "code",
   "execution_count": 35,
   "metadata": {},
   "outputs": [
    {
     "name": "stdout",
     "output_type": "stream",
     "text": [
      "[[0.774, 0.684, 0.622, 0.65, 0.622, 0.764, 0.378, 0.236], [0.826, 0.776, 0.664, 0.712, 0.664, 0.772, 0.336, 0.228], [0.79, 0.726, 0.59, 0.644, 0.59, 0.72, 0.41, 0.28]]\n"
     ]
    }
   ],
   "source": [
    "feature_selection_results = {}\n",
    "for model,results in feature_selection_report.items():\n",
    "    data = []\n",
    "    columns = [\n",
    "        \"accuracy\",\"precision\",\"recall\",\"f1-score\",\n",
    "        \"tp\",\"tn\",\"fp\",\"fn\"]\n",
    "    feature_selection_results[model] = {}\n",
    "    for ml_model, ml_results in results.items(): \n",
    "        \n",
    "\n",
    "        if ml_model in models_names:\n",
    "            data.append(get_row(ml_results))\n",
    "\n",
    "\n",
    "\n",
    "    path = f\"{PLOTS_FEATURE_SELECTION_PATH}\"\n",
    "    if not os.path.exists(path):\n",
    "        os.makedirs(path)\n",
    "    print(data)\n",
    "    plot_table(\n",
    "        data,\n",
    "        columns=columns, \n",
    "        rows=models_names,\n",
    "        path=path+\"result/metrics\",\n",
    "        title = (model+\" Results\"))\n",
    "            \n"
   ]
  },
  {
   "cell_type": "code",
   "execution_count": 36,
   "metadata": {},
   "outputs": [
    {
     "data": {
      "text/plain": "{'select-k-best': {}}"
     },
     "execution_count": 36,
     "metadata": {},
     "output_type": "execute_result"
    }
   ],
   "source": [
    "feature_selection_results"
   ]
  },
  {
   "cell_type": "code",
   "execution_count": null,
   "metadata": {},
   "outputs": [],
   "source": []
  }
 ],
 "metadata": {
  "colab": {
   "name": "01-Extração.ipynb",
   "provenance": []
  },
  "kernelspec": {
   "display_name": "Python 3.8.10 64-bit ('.venv': venv)",
   "language": "python",
   "name": "python3810jvsc74a57bd0a4783cf7446ebef64c2d24c4fe9f4a266d86f6dd2e7a304b8ae8804c98f80f9f"
  },
  "language_info": {
   "codemirror_mode": {
    "name": "ipython",
    "version": 3
   },
   "file_extension": ".py",
   "mimetype": "text/x-python",
   "name": "python",
   "nbconvert_exporter": "python",
   "pygments_lexer": "ipython3",
   "version": "3.8.10"
  },
  "metadata": {
   "interpreter": {
    "hash": "0e11114eded33ad68143fd666caabe644544be984b0693b56435e1b55b430f7f"
   }
  }
 },
 "nbformat": 4,
 "nbformat_minor": 1
}