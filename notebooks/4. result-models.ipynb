{
 "cells": [
  {
   "cell_type": "markdown",
   "metadata": {
    "id": "K_KK2usinYme"
   },
   "source": [
    "# URLs para obtenção dos datasets (Obtido dia 07/06/2021)\n",
    "- ### Explicação dos datasets: https://repositoriodatasharingfapesp.uspdigital.usp.br/\n",
    "- ### Dataset do hospital Albert Einstein: https://repositoriodatasharingfapesp.uspdigital.usp.br/handle/item/98 - (2020-06-30)\n",
    "- ### Dataset do hospital Sirio Libanes: https://repositoriodatasharingfapesp.uspdigital.usp.br/handle/item/97 (2020-06-30)\n",
    "- ### Dataset do hospital Beneficencia Portuguesa: https://repositoriodatasharingfapesp.uspdigital.usp.br/handle/item/101 (2021-04-28)\n",
    "- ### Dataset do grupo Fleury: https://repositoriodatasharingfapesp.uspdigital.usp.br/handle/item/99 - (2020-06-30)\n",
    "- ### Dataset do hospital das clinicas da faculdade de medicina da Universidade de São Paulo: https://repositoriodatasharingfapesp.uspdigital.usp.br/handle/item/100 - (2021-02-17)"
   ]
  },
  {
   "cell_type": "markdown",
   "metadata": {},
   "source": [
    "# 1. Importing Libraries"
   ]
  },
  {
   "cell_type": "code",
   "execution_count": 43,
   "metadata": {
    "id": "LHakcR8arKVZ"
   },
   "outputs": [],
   "source": [
    "import json\n",
    "import os\n",
    "import sys\n",
    "\n",
    "current_path = os.path.abspath(os.getcwd())\n",
    "sys.path.append(f\"{current_path}/../libs\")\n",
    "\n",
    "from plot import plot_confusion_matrix, plot_table"
   ]
  },
  {
   "cell_type": "markdown",
   "metadata": {},
   "source": [
    "# 2. Defining Constants and Globals"
   ]
  },
  {
   "cell_type": "code",
   "execution_count": 44,
   "metadata": {},
   "outputs": [],
   "source": [
    "COMPLETE_DATASET_REPORT_PATH = \"../reports/complete-dataset/\"\n",
    "EACH_DATASET_REPORT_PATH = \"../reports/each-dataset/\"\n",
    "PLOTS_MODELS_PATH = \"../plots/models/\"\n",
    "REPORT_PATH = \"../reports/\"\n",
    "DATASETS = [\n",
    "    \"albert-einstein\",\n",
    "    \"beneficencia-portuguesa\",\n",
    "    \"hospital-de-clinicas\",\n",
    "    \"sirio-libanes\",\n",
    "    \"grupo-fleury\"\n",
    "    ]\n",
    "\n",
    "MODELS = [\n",
    "    \"Decision Tree\",\n",
    "    \"Random Forest\",\n",
    "    \"KNN\",\n",
    "    # \"Logistic Regression\",\n",
    "    # \"SVM\"\n",
    "]"
   ]
  },
  {
   "cell_type": "markdown",
   "metadata": {},
   "source": [
    "# 3. Auxiliar Functions"
   ]
  },
  {
   "cell_type": "code",
   "execution_count": 45,
   "metadata": {},
   "outputs": [],
   "source": [
    "def get_rows_label(model):\n",
    "    rows_label=[]\n",
    "    for i in range(len(model)):\n",
    "        rows_label.append(\"fold \"+str(i))\n",
    "    rows_label.append(\"average\")\n",
    "    rows_label.append(\"standard deviation\")\n",
    "    return rows_label\n"
   ]
  },
  {
   "cell_type": "code",
   "execution_count": 46,
   "metadata": {},
   "outputs": [],
   "source": [
    "def add_avg_row(data):\n",
    "    row = []\n",
    "    for i in range(len(data[0])):\n",
    "        total = 0\n",
    "        for j in range(len(data)):\n",
    "            total += data[j][i]\n",
    "        row.append(round(total/(len(data)),3))\n",
    "    data.append(row)\n",
    "    return data"
   ]
  },
  {
   "cell_type": "code",
   "execution_count": 47,
   "metadata": {},
   "outputs": [],
   "source": [
    "def add_std_var_row(data):\n",
    "    row = []\n",
    "    for i in range(len(data[0])):\n",
    "        total = 0\n",
    "        for j in range(len(data)-1):\n",
    "            total += pow(abs(data[j][i]-data[-1][i]),2)\n",
    "        row.append(round(pow((total/(len(data)-1)),1/2),3))\n",
    "    data.append(row)\n",
    "    return data"
   ]
  },
  {
   "cell_type": "code",
   "execution_count": 48,
   "metadata": {},
   "outputs": [],
   "source": [
    "def get_data(model, columns):\n",
    "    data = []\n",
    "    for i in range(len(model)):   \n",
    "        metrics = model.get(\"fold \"+str(i),\"\")\n",
    "        row=[]\n",
    "        for metric in columns:\n",
    "            row.append(metrics.get(metric,\"\"))\n",
    "        data.append(row)\n",
    "    data = add_avg_row(data)\n",
    "    data = add_std_var_row(data)\n",
    "    return data"
   ]
  },
  {
   "cell_type": "code",
   "execution_count": 49,
   "metadata": {},
   "outputs": [],
   "source": [
    "def get_tables(model,fold_name,model_name=\"\"):\n",
    "    row_labels = get_rows_label(model)\n",
    "    columns_label = [\n",
    "        \"accuracy\",\n",
    "        \"precision\",\n",
    "        \"recall\",\n",
    "        \"f1-score\",]\n",
    "    data = get_data(model, columns_label)\n",
    "    path = f\"{PLOTS_MODELS_PATH}{fold_name}/\"\n",
    "    if not os.path.exists(path):\n",
    "        os.makedirs(path)\n",
    "    plot_table(\n",
    "        data,\n",
    "        columns=columns_label, \n",
    "        rows=row_labels,\n",
    "        path=path+model_name+\" metrics\",\n",
    "        title = (\"Metrics Table \" + model_name))"
   ]
  },
  {
   "cell_type": "code",
   "execution_count": 50,
   "metadata": {},
   "outputs": [],
   "source": [
    "def get_confusion_matrix(model,fold_name,model_name=\"\"):\n",
    "    tp = 0\n",
    "    tn = 0\n",
    "    for i in range(len(model)):   \n",
    "        matrix = model.get(\"fold \"+str(i),\"\").get(\"confusion matrix\",\"\")\n",
    "        tp += float(matrix.get(\"tp\",\"\"))\n",
    "        tn += float(matrix.get(\"tn\",\"\"))\n",
    "    tp = tp/len(model)\n",
    "    tn = tn/len(model)\n",
    "    fn = 1-tp\n",
    "    fp = 1- tn\n",
    "    cm = [[tp, fp], [fn, tn]]\n",
    "    path = f\"{PLOTS_MODELS_PATH}{fold_name}/\"\n",
    "    if not os.path.exists(path):\n",
    "        os.makedirs(path)\n",
    "    plot_confusion_matrix(cm,path=path+model_name+\" confusion matrix\",model_name=model_name)"
   ]
  },
  {
   "cell_type": "markdown",
   "metadata": {},
   "source": [
    "# 4. Reading Complete Dataset Models Report"
   ]
  },
  {
   "cell_type": "code",
   "execution_count": 51,
   "metadata": {},
   "outputs": [],
   "source": [
    "with open(COMPLETE_DATASET_REPORT_PATH+'models.json', 'r') as fp:\n",
    "    models_report = json.load(fp)"
   ]
  },
  {
   "cell_type": "markdown",
   "metadata": {},
   "source": [
    "# 5. Getting Complete Dataset Models Info"
   ]
  },
  {
   "cell_type": "code",
   "execution_count": 52,
   "metadata": {},
   "outputs": [],
   "source": [
    "models_dict = models_report.get(\"models\",\"\")\n",
    "for model_name in MODELS:\n",
    "    model = models_dict.get(model_name,\"\")\n",
    "    get_tables(model,\"complete-dataset/metrics\",model_name)\n",
    "    get_confusion_matrix(model,\"complete-dataset/confusion-matrix\",model_name)\n"
   ]
  },
  {
   "cell_type": "markdown",
   "metadata": {},
   "source": [
    "# 6. Reading Each Dataset Model Report"
   ]
  },
  {
   "cell_type": "code",
   "execution_count": 53,
   "metadata": {},
   "outputs": [],
   "source": [
    "models_reports = []\n",
    "for dataset in DATASETS:\n",
    "    with open(EACH_DATASET_REPORT_PATH+dataset+'/models.json', 'r') as fp:\n",
    "        models_reports.append(json.load(fp))"
   ]
  },
  {
   "cell_type": "markdown",
   "metadata": {},
   "source": [
    "# 7. Getting Each Dataset Models Info"
   ]
  },
  {
   "cell_type": "code",
   "execution_count": 54,
   "metadata": {},
   "outputs": [],
   "source": [
    "for models_report,dataset in zip(models_reports,DATASETS):\n",
    "    models_dict = models_report.get(\"models\",\"\")\n",
    "    for model_name in MODELS:\n",
    "        model = models_dict.get(model_name,\"\")\n",
    "        get_tables(model,f\"each-dataset/{dataset}/metrics\",model_name)\n",
    "        get_confusion_matrix(model,f\"each-dataset/{dataset}/confusion-matrix\",model_name)\n"
   ]
  }
 ],
 "metadata": {
  "colab": {
   "name": "01-Extração.ipynb",
   "provenance": []
  },
  "kernelspec": {
   "display_name": "Python 3.8.10 64-bit ('.venv': venv)",
   "language": "python",
   "name": "python3810jvsc74a57bd0a4783cf7446ebef64c2d24c4fe9f4a266d86f6dd2e7a304b8ae8804c98f80f9f"
  },
  "language_info": {
   "name": "python",
   "version": ""
  },
  "metadata": {
   "interpreter": {
    "hash": "0e11114eded33ad68143fd666caabe644544be984b0693b56435e1b55b430f7f"
   }
  }
 },
 "nbformat": 4,
 "nbformat_minor": 1
}