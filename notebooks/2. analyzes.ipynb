{
 "cells": [
  {
   "cell_type": "code",
   "execution_count": 6,
   "metadata": {
    "id": "LHakcR8arKVZ"
   },
   "outputs": [],
   "source": [
    "import json\n",
    "from operator import itemgetter\n",
    "import os\n",
    "import sys\n",
    "from tqdm.notebook import tqdm\n",
    "\n",
    "current_path = os.path.abspath(os.getcwd())\n",
    "sys.path.append(f\"{current_path}/../libs\")\n",
    "\n",
    "from config import load_config\n",
    "from dataframe import read_dataset\n",
    "from stability import get_jaccard_index\n",
    "from feature_selection import get_best_features\n"
   ]
  },
  {
   "cell_type": "markdown",
   "metadata": {},
   "source": [
    "### 1. Configs"
   ]
  },
  {
   "cell_type": "code",
   "execution_count": 7,
   "metadata": {},
   "outputs": [],
   "source": [
    "# Read Configs and Define Globals\n",
    "config = load_config(\"../config.yaml\")\n",
    "\n",
    "best_features_report = {}\n",
    "stability_report = {}"
   ]
  },
  {
   "cell_type": "markdown",
   "metadata": {},
   "source": [
    "### 2. Reports"
   ]
  },
  {
   "cell_type": "code",
   "execution_count": 8,
   "metadata": {},
   "outputs": [],
   "source": [
    "# Read Feature Selection Report and Dataset\n",
    "with open(f\"{config.REPORT_PATH}best-features.json\", 'r') as fp:\n",
    "    features_reports = json.load(fp)\n",
    "\n",
    "# df = read_dataset(\"concatenated-dataset\").drop(\"ID_PACIENTE\",axis=1)"
   ]
  },
  {
   "cell_type": "markdown",
   "metadata": {},
   "source": [
    "### 3. Features Selection"
   ]
  },
  {
   "cell_type": "code",
   "execution_count": 11,
   "metadata": {},
   "outputs": [],
   "source": [
    "# Get Best Features and Calculate Stability For Each Fold\n",
    "stability_report[\"between-folds\"] = {}\n",
    "best_between_datasets = {}\n",
    "best_between_models = {}\n",
    "for fs_model, fs_models_result in features_reports.items():\n",
    "    stability_report[\"between-folds\"][fs_model] = {}\n",
    "    best_features_report[fs_model]={}\n",
    "    best_between_datasets[fs_model]=[]\n",
    "    for dataset, dataset_result in fs_models_result.items():\n",
    "        stability_report[\"between-folds\"][fs_model][dataset] = {}\n",
    "        if dataset not in best_between_models.keys():\n",
    "            best_between_models[dataset]=[]\n",
    "        features = []\n",
    "        for fold, fold_result in dataset_result.items():\n",
    "            features.append(fold_result)\n",
    "        for i in range(len(features[0])):\n",
    "            data = []\n",
    "            for feature in features:\n",
    "                data.append(feature[:i+1])\n",
    "            jaccard = get_jaccard_index(data)\n",
    "            stability_report[\"between-folds\"][fs_model][dataset][f\"{i+1} feature(s)\"] = jaccard\n",
    "        best_features = get_best_features(features)\n",
    "        best_features_report[fs_model][dataset] = best_features\n",
    "        best_between_datasets[fs_model].append(best_features)\n",
    "        best_between_models[dataset].append(best_features)"
   ]
  },
  {
   "cell_type": "code",
   "execution_count": 14,
   "metadata": {},
   "outputs": [],
   "source": [
    "# Calculate Stability Between Datasets and Between Models\n",
    "stability_report[\"between-datasets\"] = {}\n",
    "k = min([len(x) for x in features])\n",
    "for fs_model, features in best_between_datasets.items():\n",
    "    stability_report[\"between-datasets\"][fs_model]={}\n",
    "    \n",
    "    for i in range(k):\n",
    "        data = []\n",
    "        for feature in features:\n",
    "            data.append(feature[:i+1])\n",
    "        jaccard = get_jaccard_index(data)\n",
    "        stability_report[\"between-datasets\"][fs_model][f\"{i+1} feature(s)\"] = jaccard\n",
    "\n",
    "stability_report[\"between-methods\"] = {}\n",
    "for dataset, features in best_between_models.items():\n",
    "    stability_report[\"between-methods\"][dataset] = {}\n",
    "    for i in range(k):\n",
    "        data = []\n",
    "        for feature in features:\n",
    "            data.append(feature[:i+1])\n",
    "        jaccard = get_jaccard_index(data)\n",
    "        stability_report[\"between-methods\"][dataset][f\"{i+1} feature(s)\"] = jaccard\n"
   ]
  },
  {
   "cell_type": "markdown",
   "metadata": {},
   "source": [
    "### 4. Save"
   ]
  },
  {
   "cell_type": "code",
   "execution_count": 15,
   "metadata": {},
   "outputs": [],
   "source": [
    "# Save Reports\n",
    "path = f\"{config.REPORT_PATH}\"\n",
    "if not os.path.exists(path):\n",
    "    os.makedirs(path)\n",
    "\n",
    "with open(f\"{path}best-features-result.json\", 'w') as f:\n",
    "    json.dump(best_features_report, f)\n",
    "with open(f\"{path}stability-result.json\", 'w') as f:\n",
    "    json.dump(stability_report, f)"
   ]
  },
  {
   "cell_type": "code",
   "execution_count": null,
   "metadata": {},
   "outputs": [],
   "source": []
  }
 ],
 "metadata": {
  "colab": {
   "name": "01-Extração.ipynb",
   "provenance": []
  },
  "kernelspec": {
   "display_name": "tcc-02",
   "language": "python",
   "name": "tcc-02"
  },
  "language_info": {
   "codemirror_mode": {
    "name": "ipython",
    "version": 3
   },
   "file_extension": ".py",
   "mimetype": "text/x-python",
   "name": "python",
   "nbconvert_exporter": "python",
   "pygments_lexer": "ipython3",
   "version": "3.8.10"
  },
  "metadata": {
   "interpreter": {
    "hash": "0e11114eded33ad68143fd666caabe644544be984b0693b56435e1b55b430f7f"
   }
  }
 },
 "nbformat": 4,
 "nbformat_minor": 1
}
