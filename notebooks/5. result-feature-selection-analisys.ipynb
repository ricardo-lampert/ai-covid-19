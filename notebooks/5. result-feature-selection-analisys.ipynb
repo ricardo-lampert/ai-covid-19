{
 "cells": [
  {
   "cell_type": "markdown",
   "metadata": {
    "id": "K_KK2usinYme"
   },
   "source": [
    "# URLs para obtenção dos datasets (Obtido dia 07/06/2021)\n",
    "- ### Explicação dos datasets: https://repositoriodatasharingfapesp.uspdigital.usp.br/\n",
    "- ### Dataset do hospital Albert Einstein: https://repositoriodatasharingfapesp.uspdigital.usp.br/handle/item/98 - (2020-06-30)\n",
    "- ### Dataset do hospital Sirio Libanes: https://repositoriodatasharingfapesp.uspdigital.usp.br/handle/item/97 (2020-06-30)\n",
    "- ### Dataset do hospital Beneficencia Portuguesa: https://repositoriodatasharingfapesp.uspdigital.usp.br/handle/item/101 (2021-04-28)\n",
    "- ### Dataset do grupo Fleury: https://repositoriodatasharingfapesp.uspdigital.usp.br/handle/item/99 - (2020-06-30)\n",
    "- ### Dataset do hospital das clinicas da faculdade de medicina da Universidade de São Paulo: https://repositoriodatasharingfapesp.uspdigital.usp.br/handle/item/100 - (2021-02-17)"
   ]
  },
  {
   "cell_type": "markdown",
   "metadata": {},
   "source": [
    "# 1. Importing Libraries"
   ]
  },
  {
   "cell_type": "code",
   "execution_count": 17,
   "metadata": {
    "id": "LHakcR8arKVZ"
   },
   "outputs": [],
   "source": [
    "import json\n",
    "from operator import itemgetter\n",
    "import os\n",
    "import sys\n",
    "\n",
    "current_path = os.path.abspath(os.getcwd())\n",
    "sys.path.append(f\"{current_path}/../libs\")\n",
    "\n",
    "from plot import plot_confusion_matrix, plot_table"
   ]
  },
  {
   "cell_type": "markdown",
   "metadata": {},
   "source": [
    "# 2. Defining Constants and Globals"
   ]
  },
  {
   "cell_type": "code",
   "execution_count": 18,
   "metadata": {},
   "outputs": [],
   "source": [
    "COMPLETE_DATASET_REPORT_PATH = \"../reports/complete-dataset/\"\n",
    "EACH_DATASET_REPORT_PATH = \"../reports/each-dataset/\"\n",
    "INTERIM_REPORT_PATH = \"../reports/interim/\"\n",
    "PLOTS_FEATURE_SELECTION_PATH = \"../plots/features/\"\n",
    "REPORT_PATH = \"../reports/\"\n",
    "DATASETS = [\n",
    "    \"albert-einstein\",\n",
    "    \"beneficencia-portuguesa\",\n",
    "    \"hospital-de-clinicas\",\n",
    "    \"sirio-libanes\",\n",
    "    \"grupo-fleury\"\n",
    "    ]\n",
    "\n",
    "FEATURE_SELECTION_MODELS = [\n",
    "    \"select-k-best\"\n",
    "]\n",
    "N_FEATURES = 15\n",
    "\n",
    "report_interim = {}"
   ]
  },
  {
   "cell_type": "markdown",
   "metadata": {},
   "source": [
    "# 3. Auxiliar Functions"
   ]
  },
  {
   "cell_type": "code",
   "execution_count": 19,
   "metadata": {},
   "outputs": [],
   "source": [
    "def get_data(model):\n",
    "    features = {}\n",
    "    for features_list in model.values():\n",
    "        for feature in features_list:\n",
    "            if feature not in features:\n",
    "                features[feature]=1\n",
    "            else:\n",
    "                features[feature] += 1\n",
    "    rows = [[feature, times] for feature, times in features.items()]\n",
    "    rows.sort(key=lambda x: (x[1],x[0]),reverse=True)\n",
    "    return rows"
   ]
  },
  {
   "cell_type": "code",
   "execution_count": 20,
   "metadata": {},
   "outputs": [],
   "source": [
    "def get_table(model,fold_name,model_name, dataset=None):\n",
    "    columns_label = [\n",
    "        \"\",\n",
    "        \"Times\\ on\\ Top\\ 10\",]\n",
    "    data = get_data(model)\n",
    "    if dataset not in report_interim:\n",
    "        report_interim[dataset]={}\n",
    "    report_interim[dataset][model_name] = dict(data)\n",
    "    path = f\"{PLOTS_FEATURE_SELECTION_PATH}{fold_name}/\"\n",
    "    path = path+f\"{dataset}/\" if dataset else path\n",
    "    if not os.path.exists(path):\n",
    "        os.makedirs(path)\n",
    "    plot_table(data, columns=columns_label, path=path+model_name, title=\"Feature Selection \"+model_name)\n",
    "    "
   ]
  },
  {
   "cell_type": "code",
   "execution_count": 21,
   "metadata": {},
   "outputs": [],
   "source": [
    "def get_results(report_interim):\n",
    "    results = {}\n",
    "    for dataset,result in report_interim.items():\n",
    "        if dataset != \"complete-dataset\" and dataset != \"results\":\n",
    "            for model,features in result.items():\n",
    "                if model not in results:\n",
    "                    results[model]={}\n",
    "                # print(dataset,\"-\",model)\n",
    "                for feature,times in features.items():\n",
    "                    if feature not in results[model]:\n",
    "                        results[model][feature]=times\n",
    "                    else:\n",
    "                        results[model][feature]+=times\n",
    "                        # ????????????????????????????\n",
    "                        # data ta saindo com o modelo e devo ordenar\n",
    "                        # posso usr um for por modelo e ordenar salvando em cima\n",
    "    for model_name,result in results.items():\n",
    "        \n",
    "        data = [[feature, times] for feature, times in result.items()]\n",
    "  \n",
    "        data.sort(key=lambda x: (x[1],x[0]),reverse=True)\n",
    "        if \"results\" not in report_interim:\n",
    "            report_interim[\"results\"]={}\n",
    "        report_interim[\"results\"][model_name] = dict(data)\n",
    "    return data\n",
    "\n",
    "    "
   ]
  },
  {
   "cell_type": "markdown",
   "metadata": {},
   "source": [
    "# 4. Reading Complete Dataset Feature Selection Report"
   ]
  },
  {
   "cell_type": "code",
   "execution_count": 22,
   "metadata": {},
   "outputs": [],
   "source": [
    "with open(COMPLETE_DATASET_REPORT_PATH+'feature-selection.json', 'r') as fp:\n",
    "    feature_selection_report = json.load(fp)"
   ]
  },
  {
   "cell_type": "markdown",
   "metadata": {},
   "source": [
    "# 5. Getting Complete Dataset Feature Selection Table "
   ]
  },
  {
   "cell_type": "code",
   "execution_count": 23,
   "metadata": {},
   "outputs": [],
   "source": [
    "models_dict = feature_selection_report.get(\"feature selection\",\"\")\n",
    "for model_name in FEATURE_SELECTION_MODELS:\n",
    "    model = models_dict.get(model_name,\"\")\n",
    "    get_table(model,\"complete-dataset\",model_name,\"complete-dataset\")\n"
   ]
  },
  {
   "cell_type": "markdown",
   "metadata": {},
   "source": [
    "# 6. Reading Each Dataset Feature Selection Report"
   ]
  },
  {
   "cell_type": "code",
   "execution_count": 24,
   "metadata": {},
   "outputs": [],
   "source": [
    "models_reports = []\n",
    "for dataset in DATASETS:\n",
    "    with open(EACH_DATASET_REPORT_PATH+dataset+'/feature-selection.json', 'r') as fp:\n",
    "        models_reports.append(json.load(fp))"
   ]
  },
  {
   "cell_type": "markdown",
   "metadata": {},
   "source": [
    "# 7. Getting Each Dataset Feature Selection Table"
   ]
  },
  {
   "cell_type": "code",
   "execution_count": 25,
   "metadata": {},
   "outputs": [],
   "source": [
    "for models_report,dataset in zip(models_reports,DATASETS):\n",
    "\n",
    "    models_dict = models_report.get(\"feature selection\",\"\")\n",
    "    for model_name in FEATURE_SELECTION_MODELS:\n",
    "        model = models_dict.get(model_name,\"\")\n",
    "        get_table(model,f\"each-dataset\",model_name,dataset)\n"
   ]
  },
  {
   "cell_type": "markdown",
   "metadata": {},
   "source": [
    "# 8. Getting Results Feature Selection Table"
   ]
  },
  {
   "cell_type": "code",
   "execution_count": 26,
   "metadata": {},
   "outputs": [],
   "source": [
    "data = get_results(report_interim)\n",
    "columns_label = [\"\",\"Times\\ on\\ Top\\ 10\"]\n",
    "path = f\"{PLOTS_FEATURE_SELECTION_PATH}result/\"\n",
    "if not os.path.exists(path):\n",
    "     os.makedirs(path)\n",
    "plot_table(data[:N_FEATURES], columns=columns_label, path=path+\"results\", title=\"Feature Selection Result\")"
   ]
  },
  {
   "cell_type": "markdown",
   "metadata": {},
   "source": [
    "# 9. Saving Results Report"
   ]
  },
  {
   "cell_type": "code",
   "execution_count": 27,
   "metadata": {},
   "outputs": [],
   "source": [
    "path = REPORT_PATH+\"interim/\"\n",
    "if not os.path.exists(path):\n",
    "    os.makedirs(path)\n",
    "\n",
    "with open(INTERIM_REPORT_PATH+'features.json', 'w') as f:\n",
    "    json.dump(report_interim, f)"
   ]
  },
  {
   "cell_type": "code",
   "execution_count": null,
   "metadata": {},
   "outputs": [],
   "source": []
  }
 ],
 "metadata": {
  "colab": {
   "name": "01-Extração.ipynb",
   "provenance": []
  },
  "kernelspec": {
   "display_name": "Python 3.8.10 64-bit ('.venv': venv)",
   "language": "python",
   "name": "python3810jvsc74a57bd0a4783cf7446ebef64c2d24c4fe9f4a266d86f6dd2e7a304b8ae8804c98f80f9f"
  },
  "language_info": {
   "codemirror_mode": {
    "name": "ipython",
    "version": 3
   },
   "file_extension": ".py",
   "mimetype": "text/x-python",
   "name": "python",
   "nbconvert_exporter": "python",
   "pygments_lexer": "ipython3",
   "version": "3.8.10"
  },
  "metadata": {
   "interpreter": {
    "hash": "0e11114eded33ad68143fd666caabe644544be984b0693b56435e1b55b430f7f"
   }
  }
 },
 "nbformat": 4,
 "nbformat_minor": 1
}