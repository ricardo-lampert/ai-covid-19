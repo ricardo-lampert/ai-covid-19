{
 "cells": [
  {
   "cell_type": "markdown",
   "metadata": {
    "id": "K_KK2usinYme"
   },
   "source": [
    "# URLs para obtenção dos datasets (Obtido dia 07/06/2021)\n",
    "- ### Explicação dos datasets: https://repositoriodatasharingfapesp.uspdigital.usp.br/\n",
    "- ### Dataset do hospital Albert Einstein: https://repositoriodatasharingfapesp.uspdigital.usp.br/handle/item/98 - (2020-06-30)\n",
    "- ### Dataset do hospital Sirio Libanes: https://repositoriodatasharingfapesp.uspdigital.usp.br/handle/item/97 (2020-06-30)\n",
    "- ### Dataset do hospital Beneficencia Portuguesa: https://repositoriodatasharingfapesp.uspdigital.usp.br/handle/item/101 (2021-04-28)\n",
    "- ### Dataset do grupo Fleury: https://repositoriodatasharingfapesp.uspdigital.usp.br/handle/item/99 - (2020-06-30)\n",
    "- ### Dataset do hospital das clinicas da faculdade de medicina da Universidade de São Paulo: https://repositoriodatasharingfapesp.uspdigital.usp.br/handle/item/100 - (2021-02-17)"
   ]
  },
  {
   "cell_type": "markdown",
   "metadata": {},
   "source": [
    "# 1. Importing Libraries"
   ]
  },
  {
   "cell_type": "code",
   "execution_count": 9,
   "metadata": {
    "id": "LHakcR8arKVZ"
   },
   "outputs": [],
   "source": [
    "import json\n",
    "import os\n",
    "import sys\n",
    "\n",
    "current_path = os.path.abspath(os.getcwd())\n",
    "sys.path.append(f\"{current_path}/../libs\")\n",
    "\n",
    "from plot import plot_grouped_bars"
   ]
  },
  {
   "cell_type": "markdown",
   "metadata": {},
   "source": [
    "# 2. Defining Constants and Globals"
   ]
  },
  {
   "cell_type": "code",
   "execution_count": 10,
   "metadata": {},
   "outputs": [],
   "source": [
    "COMPLETE_DATASET_REPORT_PATH = \"../reports/complete-dataset/\"\n",
    "EACH_DATASET_REPORT_PATH = \"../reports/each-dataset/\"\n",
    "PLOTS_INFO_PATH = \"../plots/info/\"\n",
    "DATASETS = [\n",
    "    \"albert-einstein\",\n",
    "    \"beneficencia-portuguesa\",\n",
    "    \"hospital-de-clinicas\",\n",
    "    \"sirio-libanes\",\n",
    "    \"grupo-fleury\",\n",
    "    ]"
   ]
  },
  {
   "cell_type": "markdown",
   "metadata": {},
   "source": [
    "# 3. Reading Complete Dataset Info Report"
   ]
  },
  {
   "cell_type": "code",
   "execution_count": 11,
   "metadata": {},
   "outputs": [],
   "source": [
    "with open(COMPLETE_DATASET_REPORT_PATH+'info.json', 'r') as fp:\n",
    "    info_report = json.load(fp)"
   ]
  },
  {
   "cell_type": "markdown",
   "metadata": {},
   "source": [
    "# 4. Getting Informations About Complete Datasets"
   ]
  },
  {
   "cell_type": "code",
   "execution_count": 12,
   "metadata": {},
   "outputs": [],
   "source": [
    "labels = info_report.get(\"preprocessed_dataset\",\"\").get(\"features\",\"\").get(\"LABEL\",\"\")\n",
    "positive = labels.get(\"POSITIVO\",0)\n",
    "negative = labels.get(\"NEGATIVO\",0)"
   ]
  },
  {
   "cell_type": "code",
   "execution_count": 13,
   "metadata": {},
   "outputs": [],
   "source": [
    "labels_values = [[positive],[negative]]\n",
    "labels_name = ['Positive','Negative']\n",
    "path = f\"{PLOTS_INFO_PATH}complete-dataset/\"\n",
    "if not os.path.exists(path):\n",
    "    os.makedirs(path)\n",
    "plot_grouped_bars(labels_values,labels_name,path=path+'labels',title = 'COMPLETE DATASET LABELS',width=5,high=5)"
   ]
  },
  {
   "cell_type": "markdown",
   "metadata": {},
   "source": [
    "# 5. Reading Each Dataset Info Report"
   ]
  },
  {
   "cell_type": "code",
   "execution_count": 14,
   "metadata": {},
   "outputs": [],
   "source": [
    "info_reports = []\n",
    "for dataset in DATASETS:\n",
    "    with open(EACH_DATASET_REPORT_PATH+dataset+'/info.json', 'r') as fp:\n",
    "        info_reports.append(json.load(fp))"
   ]
  },
  {
   "cell_type": "markdown",
   "metadata": {},
   "source": [
    "# 6. Getting Informations About Each Datasets"
   ]
  },
  {
   "cell_type": "code",
   "execution_count": 15,
   "metadata": {},
   "outputs": [],
   "source": [
    "positive_list = []\n",
    "negative_list = []\n",
    "for info_report in info_reports:\n",
    "    labels = info_report.get(\"preprocessed_dataset\",\"\").get(\"features\",\"\").get(\"LABEL\",\"\")\n",
    "    positive_list.append(labels.get(\"POSITIVO\",0))\n",
    "    negative_list.append(labels.get(\"NEGATIVO\",0))"
   ]
  },
  {
   "cell_type": "code",
   "execution_count": 16,
   "metadata": {},
   "outputs": [
    {
     "name": "stdout",
     "output_type": "stream",
     "text": [
      "['albert-einstein', 'beneficencia-portuguesa', 'hospital-de-clinicas', 'sirio-libanes', 'grupo-fleury']\n",
      "['Positive', 'Negative']\n"
     ]
    }
   ],
   "source": [
    "labels_values = [positive_list,negative_list]\n",
    "labels_name = ['Positive','Negative']\n",
    "path = f\"{PLOTS_INFO_PATH}each-dataset/\"\n",
    "if not os.path.exists(path):\n",
    "    os.makedirs(path)\n",
    "plot_grouped_bars(labels_values,labels_name,path=path+'labels',title = 'EACH DATASET LABELS', groups=DATASETS, width = 30)"
   ]
  },
  {
   "cell_type": "code",
   "execution_count": null,
   "metadata": {},
   "outputs": [],
   "source": []
  }
 ],
 "metadata": {
  "colab": {
   "name": "01-Extração.ipynb",
   "provenance": []
  },
  "kernelspec": {
   "display_name": "Python 3.8.10 64-bit ('.venv': venv)",
   "language": "python",
   "name": "python3810jvsc74a57bd0a4783cf7446ebef64c2d24c4fe9f4a266d86f6dd2e7a304b8ae8804c98f80f9f"
  },
  "language_info": {
   "name": "python",
   "version": ""
  },
  "metadata": {
   "interpreter": {
    "hash": "0e11114eded33ad68143fd666caabe644544be984b0693b56435e1b55b430f7f"
   }
  }
 },
 "nbformat": 4,
 "nbformat_minor": 1
}