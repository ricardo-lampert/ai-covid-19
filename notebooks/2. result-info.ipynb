{
 "cells": [
  {
   "cell_type": "markdown",
   "metadata": {
    "id": "K_KK2usinYme"
   },
   "source": [
    "# URLs para obtenção dos datasets (Obtido dia 07/06/2021)\n",
    "- ### Explicação dos datasets: https://repositoriodatasharingfapesp.uspdigital.usp.br/\n",
    "- ### Dataset do hospital Albert Einstein: https://repositoriodatasharingfapesp.uspdigital.usp.br/handle/item/98 - (2020-06-30)\n",
    "- ### Dataset do hospital Sirio Libanes: https://repositoriodatasharingfapesp.uspdigital.usp.br/handle/item/97 (2020-06-30)\n",
    "- ### Dataset do hospital Beneficencia Portuguesa: https://repositoriodatasharingfapesp.uspdigital.usp.br/handle/item/101 (2021-04-28)\n",
    "- ### Dataset do grupo Fleury: https://repositoriodatasharingfapesp.uspdigital.usp.br/handle/item/99 - (2020-06-30)\n",
    "- ### Dataset do hospital das clinicas da faculdade de medicina da Universidade de São Paulo: https://repositoriodatasharingfapesp.uspdigital.usp.br/handle/item/100 - (2021-02-17)"
   ]
  },
  {
   "cell_type": "markdown",
   "metadata": {},
   "source": [
    "# 1. Importing Libraries"
   ]
  },
  {
   "cell_type": "code",
   "execution_count": 1,
   "metadata": {
    "id": "LHakcR8arKVZ"
   },
   "outputs": [],
   "source": [
    "import json\n",
    "import os\n",
    "import sys\n",
    "\n",
    "current_path = os.path.abspath(os.getcwd())\n",
    "sys.path.append(f\"{current_path}/../libs\")\n",
    "\n",
    "from plot import plot_grouped_bars\n",
    "from config import load_config"
   ]
  },
  {
   "cell_type": "markdown",
   "metadata": {},
   "source": [
    "# 2. Reading Configs"
   ]
  },
  {
   "cell_type": "code",
   "execution_count": 2,
   "metadata": {},
   "outputs": [],
   "source": [
    "config = load_config(\"../config.yaml\")"
   ]
  },
  {
   "cell_type": "markdown",
   "metadata": {},
   "source": [
    "# 3. Reading Info Report"
   ]
  },
  {
   "cell_type": "code",
   "execution_count": 3,
   "metadata": {},
   "outputs": [],
   "source": [
    "with open(config.REPORT_PATH+'info.json', 'r') as fp:\n",
    "    info_report = json.load(fp)"
   ]
  },
  {
   "cell_type": "markdown",
   "metadata": {},
   "source": [
    "# 4. Getting Informations About Concatenated Datasets"
   ]
  },
  {
   "cell_type": "code",
   "execution_count": 4,
   "metadata": {},
   "outputs": [],
   "source": [
    "labels = info_report.get(\"preprocessed_dataset\",\"\").get(\"concatenated-dataset\").get(\"features\",\"\").get(\"LABEL\",\"\")\n",
    "positive = labels.get(\"POSITIVO\",0)\n",
    "negative = labels.get(\"NEGATIVO\",0)"
   ]
  },
  {
   "cell_type": "code",
   "execution_count": 5,
   "metadata": {},
   "outputs": [],
   "source": [
    "labels_values = [[positive],[negative]]\n",
    "labels_name = ['Positive','Negative']\n",
    "path = config.PLOTS_PATH+config.INFO_PATH\n",
    "if not os.path.exists(path):\n",
    "    os.makedirs(path)\n",
    "plot_grouped_bars(labels_values,labels_name,path=path+'concatenated-dataset-labels',title = 'CONCATENATED DATASETS LABELS',width=5,high=5)"
   ]
  },
  {
   "cell_type": "markdown",
   "metadata": {},
   "source": [
    "# 5. Getting Informations About Each Datasets"
   ]
  },
  {
   "cell_type": "code",
   "execution_count": 6,
   "metadata": {},
   "outputs": [],
   "source": [
    "positive_list = []\n",
    "negative_list = []\n",
    "groups = []\n",
    "reports = info_report.get(\"preprocessed_dataset\",\"\")\n",
    "for dataset in config.DATASETS:\n",
    "    if dataset != \"concatenated-dataset\":\n",
    "        groups.append(dataset)\n",
    "        labels = reports.get(dataset).get(\"features\",\"\").get(\"LABEL\",\"\")\n",
    "        positive_list.append(labels.get(\"POSITIVO\",0))\n",
    "        negative_list.append(labels.get(\"NEGATIVO\",0))"
   ]
  },
  {
   "cell_type": "code",
   "execution_count": 7,
   "metadata": {},
   "outputs": [
    {
     "name": "stdout",
     "output_type": "stream",
     "text": [
      "['albert-einstein', 'beneficencia-portuguesa', 'hospital-de-clinicas', 'sirio-libanes', 'grupo-fleury']\n",
      "['Positive', 'Negative']\n"
     ]
    }
   ],
   "source": [
    "labels_values = [positive_list,negative_list]\n",
    "labels_name = ['Positive','Negative']\n",
    "path = config.PLOTS_PATH+config.INFO_PATH\n",
    "if not os.path.exists(path):\n",
    "    os.makedirs(path)\n",
    "plot_grouped_bars(labels_values,labels_name,path=f\"{path}dataset-labels\",title = 'DATASET LABELS', groups=groups, width = 30)"
   ]
  },
  {
   "cell_type": "code",
   "execution_count": null,
   "metadata": {},
   "outputs": [],
   "source": []
  }
 ],
 "metadata": {
  "colab": {
   "name": "01-Extração.ipynb",
   "provenance": []
  },
  "kernelspec": {
   "display_name": "Python 3.8.10 64-bit ('.venv': venv)",
   "language": "python",
   "name": "python3810jvsc74a57bd0a4783cf7446ebef64c2d24c4fe9f4a266d86f6dd2e7a304b8ae8804c98f80f9f"
  },
  "language_info": {
   "codemirror_mode": {
    "name": "ipython",
    "version": 3
   },
   "file_extension": ".py",
   "mimetype": "text/x-python",
   "name": "python",
   "nbconvert_exporter": "python",
   "pygments_lexer": "ipython3",
   "version": "3.8.10"
  },
  "metadata": {
   "interpreter": {
    "hash": "0e11114eded33ad68143fd666caabe644544be984b0693b56435e1b55b430f7f"
   }
  }
 },
 "nbformat": 4,
 "nbformat_minor": 1
}